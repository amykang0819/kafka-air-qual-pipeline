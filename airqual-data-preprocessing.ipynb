{
 "cells": [
  {
   "cell_type": "code",
   "execution_count": null,
   "metadata": {},
   "outputs": [
    {
     "name": "stdout",
     "output_type": "stream",
     "text": [
      "<class 'pandas.core.frame.DataFrame'>\n",
      "RangeIndex: 9471 entries, 0 to 9470\n",
      "Data columns (total 13 columns):\n",
      " #   Column        Non-Null Count  Dtype         \n",
      "---  ------        --------------  -----         \n",
      " 0   Datetime      9471 non-null   datetime64[ns]\n",
      " 1   co_gt         7674 non-null   object        \n",
      " 2   pt08_s1_co    8991 non-null   object        \n",
      " 3   c6h6_gt       8991 non-null   object        \n",
      " 4   pt08_s2_nmhc  8991 non-null   object        \n",
      " 5   nox_gt        7718 non-null   object        \n",
      " 6   pt08_s3_nox   8991 non-null   object        \n",
      " 7   no2_gt        7715 non-null   object        \n",
      " 8   pt08_s4_no2   8991 non-null   object        \n",
      " 9   pt08_s5_o3    8991 non-null   object        \n",
      " 10  t             8991 non-null   object        \n",
      " 11  rh            8991 non-null   object        \n",
      " 12  ah            8991 non-null   object        \n",
      "dtypes: datetime64[ns](1), object(12)\n",
      "memory usage: 962.0+ KB\n"
     ]
    },
    {
     "name": "stderr",
     "output_type": "stream",
     "text": [
      "C:\\Users\\amyk0\\AppData\\Local\\Temp\\ipykernel_4276\\2543538647.py:31: FutureWarning: DataFrame.interpolate with object dtype is deprecated and will raise in a future version. Call obj.infer_objects(copy=False) before interpolating instead.\n",
      "  df.interpolate(method='linear', limit_direction='both', inplace=True)\n"
     ]
    }
   ],
   "source": [
    "import pandas as pd\n",
    "\n",
    "# Load data & drop unnamed columns\n",
    "df = pd.read_csv('C:/airqual-project/AirQualityUCI.csv', sep=';', decimal=',', usecols=range(15))\n",
    "\n",
    "# Convert date & time to datetime\n",
    "df['Datetime'] = pd.to_datetime(df['Date'] + ' ' + df['Time'], format= '%d/%m/%Y %H.%M.%S', dayfirst=True)\n",
    "df.drop(columns=['Date', 'Time', 'NMHC(GT)'], inplace=True) # Dropped MMHC(GT) due to high number of missing values\n",
    "col = 'Datetime'\n",
    "df = df[[col] + [c for c in df if c not in [col]]]\n",
    "\n",
    "# Standardize data types\n",
    "for col in df.columns:\n",
    "    if col != 'Datetime':\n",
    "        df[col] = pd.to_numeric(df[col], errors='coerce')\n",
    "\n",
    "# Standardize column names\n",
    "df.rename(columns={'CO(GT)': 'co_gt', \n",
    "                   'PT08.S1(CO)': 'pt08_s1_co',  \n",
    "                   'C6H6(GT)': 'c6h6_gt', \n",
    "                   'PT08.S2(NMHC)': 'pt08_s2_nmhc', \n",
    "                   'NOx(GT)': 'nox_gt', \n",
    "                   'PT08.S3(NOx)': 'pt08_s3_nox', \n",
    "                   'NO2(GT)': 'no2_gt', \n",
    "                   'PT08.S4(NO2)': 'pt08_s4_no2', \n",
    "                   'PT08.S5(O3)': 'pt08_s5_o3', \n",
    "                   'T': 't', 'RH': 'rh', 'AH': 'ah'}, inplace=True)\n",
    "\n",
    "# Handle missing values\n",
    "df = df.replace(-200, pd.NA)\n",
    "df.interpolate(method='linear', limit_direction='both', inplace=True) \n",
    "df = df[df.notna().sum(axis=1) > 5]\n",
    "\n",
    "df.info()\n",
    "df.head()\n",
    "df.to_csv('C:/airqual-project/AirQualityUCI_cleaned.csv', index=False)"
   ]
  }
 ],
 "metadata": {
  "kernelspec": {
   "display_name": "base",
   "language": "python",
   "name": "python3"
  },
  "language_info": {
   "codemirror_mode": {
    "name": "ipython",
    "version": 3
   },
   "file_extension": ".py",
   "mimetype": "text/x-python",
   "name": "python",
   "nbconvert_exporter": "python",
   "pygments_lexer": "ipython3",
   "version": "3.12.4"
  }
 },
 "nbformat": 4,
 "nbformat_minor": 2
}
